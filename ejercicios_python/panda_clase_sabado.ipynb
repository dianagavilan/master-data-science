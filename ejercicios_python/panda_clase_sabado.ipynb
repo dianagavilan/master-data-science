{
 "cells": [
  {
   "cell_type": "markdown",
   "metadata": {},
   "source": [
    "## Matplotlib"
   ]
  },
  {
   "cell_type": "code",
   "execution_count": 62,
   "metadata": {
    "collapsed": true
   },
   "outputs": [],
   "source": [
    "import pandas as pd\n",
    "from pandas import DataFrame\n",
    "import matplotlib \n",
    "import matplotlib.pyplot as plt"
   ]
  },
  {
   "cell_type": "code",
   "execution_count": 3,
   "metadata": {
    "collapsed": true
   },
   "outputs": [],
   "source": [
    "aircraftdf=pd.read_csv(\"/home/dsc/Data/opentraveldata/optd_aircraft.csv\",sep='^')"
   ]
  },
  {
   "cell_type": "code",
   "execution_count": 4,
   "metadata": {
    "collapsed": false
   },
   "outputs": [
    {
     "data": {
      "text/html": [
       "<div>\n",
       "<table border=\"1\" class=\"dataframe\">\n",
       "  <thead>\n",
       "    <tr style=\"text-align: right;\">\n",
       "      <th></th>\n",
       "      <th>iata_code</th>\n",
       "      <th>manufacturer</th>\n",
       "      <th>model</th>\n",
       "      <th>iata_group</th>\n",
       "      <th>iata_category</th>\n",
       "      <th>icao_code</th>\n",
       "      <th>nb_engines</th>\n",
       "      <th>aircraft_type</th>\n",
       "    </tr>\n",
       "  </thead>\n",
       "  <tbody>\n",
       "    <tr>\n",
       "      <th>0</th>\n",
       "      <td>100</td>\n",
       "      <td>Fokker</td>\n",
       "      <td>100</td>\n",
       "      <td>100</td>\n",
       "      <td>2J</td>\n",
       "      <td>F100</td>\n",
       "      <td>2</td>\n",
       "      <td>J</td>\n",
       "    </tr>\n",
       "    <tr>\n",
       "      <th>1</th>\n",
       "      <td>141</td>\n",
       "      <td>BAe</td>\n",
       "      <td>146-100</td>\n",
       "      <td>146</td>\n",
       "      <td>4J</td>\n",
       "      <td>B461</td>\n",
       "      <td>4</td>\n",
       "      <td>J</td>\n",
       "    </tr>\n",
       "    <tr>\n",
       "      <th>2</th>\n",
       "      <td>142</td>\n",
       "      <td>BAe</td>\n",
       "      <td>BAE Systems 146-200 Passenger</td>\n",
       "      <td>146</td>\n",
       "      <td>4J</td>\n",
       "      <td>B462</td>\n",
       "      <td>4</td>\n",
       "      <td>J</td>\n",
       "    </tr>\n",
       "    <tr>\n",
       "      <th>3</th>\n",
       "      <td>143</td>\n",
       "      <td>BAe</td>\n",
       "      <td>146-300</td>\n",
       "      <td>146</td>\n",
       "      <td>4J</td>\n",
       "      <td>B463</td>\n",
       "      <td>4</td>\n",
       "      <td>J</td>\n",
       "    </tr>\n",
       "    <tr>\n",
       "      <th>4</th>\n",
       "      <td>146</td>\n",
       "      <td>BAe</td>\n",
       "      <td>146</td>\n",
       "      <td>NaN</td>\n",
       "      <td>NaN</td>\n",
       "      <td>NaN</td>\n",
       "      <td>NaN</td>\n",
       "      <td>NaN</td>\n",
       "    </tr>\n",
       "  </tbody>\n",
       "</table>\n",
       "</div>"
      ],
      "text/plain": [
       "  iata_code manufacturer                          model iata_group  \\\n",
       "0       100       Fokker                            100        100   \n",
       "1       141          BAe                        146-100        146   \n",
       "2       142          BAe  BAE Systems 146-200 Passenger        146   \n",
       "3       143          BAe                        146-300        146   \n",
       "4       146          BAe                            146        NaN   \n",
       "\n",
       "  iata_category icao_code  nb_engines aircraft_type  \n",
       "0            2J      F100           2             J  \n",
       "1            4J      B461           4             J  \n",
       "2            4J      B462           4             J  \n",
       "3            4J      B463           4             J  \n",
       "4           NaN       NaN         NaN           NaN  "
      ]
     },
     "execution_count": 4,
     "metadata": {},
     "output_type": "execute_result"
    }
   ],
   "source": [
    "aircraftdf.head(5)"
   ]
  },
  {
   "cell_type": "code",
   "execution_count": null,
   "metadata": {
    "collapsed": true
   },
   "outputs": [],
   "source": [
    "len(aircraftdf) ##numero filas"
   ]
  },
  {
   "cell_type": "code",
   "execution_count": 7,
   "metadata": {
    "collapsed": false
   },
   "outputs": [
    {
     "data": {
      "text/plain": [
       "iata_code        61\n",
       "manufacturer     61\n",
       "model            61\n",
       "iata_group       61\n",
       "iata_category    61\n",
       "icao_code        61\n",
       "nb_engines       61\n",
       "aircraft_type    61\n",
       "dtype: int64"
      ]
     },
     "execution_count": 7,
     "metadata": {},
     "output_type": "execute_result"
    }
   ],
   "source": [
    "fourenginedf=aircraftdf[aircraftdf[\"nb_engines\"]==4]\n",
    "fourenginedf.head(5)\n",
    "fourenginedf.count()"
   ]
  },
  {
   "cell_type": "code",
   "execution_count": 14,
   "metadata": {
    "collapsed": false,
    "scrolled": true
   },
   "outputs": [
    {
     "data": {
      "text/html": [
       "<div>\n",
       "<table border=\"1\" class=\"dataframe\">\n",
       "  <thead>\n",
       "    <tr style=\"text-align: right;\">\n",
       "      <th></th>\n",
       "      <th>iata_code</th>\n",
       "      <th>manufacturer</th>\n",
       "      <th>model</th>\n",
       "      <th>iata_group</th>\n",
       "      <th>iata_category</th>\n",
       "      <th>icao_code</th>\n",
       "      <th>nb_engines</th>\n",
       "    </tr>\n",
       "    <tr>\n",
       "      <th>aircraft_type</th>\n",
       "      <th></th>\n",
       "      <th></th>\n",
       "      <th></th>\n",
       "      <th></th>\n",
       "      <th></th>\n",
       "      <th></th>\n",
       "      <th></th>\n",
       "    </tr>\n",
       "  </thead>\n",
       "  <tbody>\n",
       "    <tr>\n",
       "      <th>H</th>\n",
       "      <td>12</td>\n",
       "      <td>12</td>\n",
       "      <td>12</td>\n",
       "      <td>12</td>\n",
       "      <td>12</td>\n",
       "      <td>12</td>\n",
       "      <td>0</td>\n",
       "    </tr>\n",
       "    <tr>\n",
       "      <th>J</th>\n",
       "      <td>231</td>\n",
       "      <td>230</td>\n",
       "      <td>231</td>\n",
       "      <td>231</td>\n",
       "      <td>231</td>\n",
       "      <td>231</td>\n",
       "      <td>231</td>\n",
       "    </tr>\n",
       "    <tr>\n",
       "      <th>P</th>\n",
       "      <td>30</td>\n",
       "      <td>30</td>\n",
       "      <td>30</td>\n",
       "      <td>30</td>\n",
       "      <td>30</td>\n",
       "      <td>30</td>\n",
       "      <td>30</td>\n",
       "    </tr>\n",
       "    <tr>\n",
       "      <th>S</th>\n",
       "      <td>6</td>\n",
       "      <td>4</td>\n",
       "      <td>6</td>\n",
       "      <td>6</td>\n",
       "      <td>6</td>\n",
       "      <td>6</td>\n",
       "      <td>0</td>\n",
       "    </tr>\n",
       "    <tr>\n",
       "      <th>T</th>\n",
       "      <td>83</td>\n",
       "      <td>82</td>\n",
       "      <td>83</td>\n",
       "      <td>83</td>\n",
       "      <td>83</td>\n",
       "      <td>83</td>\n",
       "      <td>82</td>\n",
       "    </tr>\n",
       "  </tbody>\n",
       "</table>\n",
       "</div>"
      ],
      "text/plain": [
       "               iata_code  manufacturer  model  iata_group  iata_category  \\\n",
       "aircraft_type                                                              \n",
       "H                     12            12     12          12             12   \n",
       "J                    231           230    231         231            231   \n",
       "P                     30            30     30          30             30   \n",
       "S                      6             4      6           6              6   \n",
       "T                     83            82     83          83             83   \n",
       "\n",
       "               icao_code  nb_engines  \n",
       "aircraft_type                         \n",
       "H                     12           0  \n",
       "J                    231         231  \n",
       "P                     30          30  \n",
       "S                      6           0  \n",
       "T                     83          82  "
      ]
     },
     "execution_count": 14,
     "metadata": {},
     "output_type": "execute_result"
    }
   ],
   "source": [
    "##numero de aviones cuyo tipo es J\n",
    "aircraftdf_type=aircraftdf[aircraftdf[\"aircraft_type\"]==\"J\"]\n",
    "aircraftdf_type.head(5)\n",
    "len(aircraftdf_type)\n",
    "##devuelve la select count de cada una de las columnnas\n",
    "aircraftdf_type.count()\n",
    "aircraftdf.groupby(\"aircraft_type\").count()\n"
   ]
  },
  {
   "cell_type": "code",
   "execution_count": 24,
   "metadata": {
    "collapsed": false
   },
   "outputs": [
    {
     "ename": "ValueError",
     "evalue": "Must pass DataFrame with boolean values only",
     "output_type": "error",
     "traceback": [
      "\u001b[1;31m---------------------------------------------------------------------------\u001b[0m",
      "\u001b[1;31mValueError\u001b[0m                                Traceback (most recent call last)",
      "\u001b[1;32m<ipython-input-24-73234cae4f99>\u001b[0m in \u001b[0;36m<module>\u001b[1;34m()\u001b[0m\n\u001b[0;32m      4\u001b[0m \u001b[0mcondicion\u001b[0m\u001b[1;33m=\u001b[0m \u001b[0maircraftdf\u001b[0m\u001b[1;33m[\u001b[0m\u001b[1;33m(\u001b[0m\u001b[0maircraftdf\u001b[0m\u001b[1;33m[\u001b[0m\u001b[1;34m\"nb_engines\"\u001b[0m\u001b[1;33m]\u001b[0m\u001b[1;33m==\u001b[0m\u001b[1;36m4\u001b[0m\u001b[1;33m)\u001b[0m \u001b[1;33m&\u001b[0m \u001b[1;33m(\u001b[0m\u001b[0maircraftdf\u001b[0m\u001b[1;33m[\u001b[0m\u001b[1;34m\"aircraft_type\"\u001b[0m\u001b[1;33m]\u001b[0m\u001b[1;33m==\u001b[0m\u001b[1;34m\"J\"\u001b[0m\u001b[1;33m)\u001b[0m\u001b[1;33m]\u001b[0m\u001b[1;33m\u001b[0m\u001b[0m\n\u001b[0;32m      5\u001b[0m \u001b[1;33m\u001b[0m\u001b[0m\n\u001b[1;32m----> 6\u001b[1;33m \u001b[0mfiltrado\u001b[0m\u001b[1;33m=\u001b[0m\u001b[0maircraftdf\u001b[0m\u001b[1;33m[\u001b[0m\u001b[0mcondicion\u001b[0m\u001b[1;33m]\u001b[0m\u001b[1;33m\u001b[0m\u001b[0m\n\u001b[0m\u001b[0;32m      7\u001b[0m \u001b[1;33m\u001b[0m\u001b[0m\n\u001b[0;32m      8\u001b[0m \u001b[0mfiltrado\u001b[0m\u001b[1;33m.\u001b[0m\u001b[0mcount\u001b[0m\u001b[1;33m(\u001b[0m\u001b[1;33m)\u001b[0m\u001b[1;33m\u001b[0m\u001b[0m\n",
      "\u001b[1;32m/usr/lib64/python2.7/site-packages/pandas/core/frame.pyc\u001b[0m in \u001b[0;36m__getitem__\u001b[1;34m(self, key)\u001b[0m\n\u001b[0;32m   1791\u001b[0m             \u001b[1;32mreturn\u001b[0m \u001b[0mself\u001b[0m\u001b[1;33m.\u001b[0m\u001b[0m_getitem_array\u001b[0m\u001b[1;33m(\u001b[0m\u001b[0mkey\u001b[0m\u001b[1;33m)\u001b[0m\u001b[1;33m\u001b[0m\u001b[0m\n\u001b[0;32m   1792\u001b[0m         \u001b[1;32melif\u001b[0m \u001b[0misinstance\u001b[0m\u001b[1;33m(\u001b[0m\u001b[0mkey\u001b[0m\u001b[1;33m,\u001b[0m \u001b[0mDataFrame\u001b[0m\u001b[1;33m)\u001b[0m\u001b[1;33m:\u001b[0m\u001b[1;33m\u001b[0m\u001b[0m\n\u001b[1;32m-> 1793\u001b[1;33m             \u001b[1;32mreturn\u001b[0m \u001b[0mself\u001b[0m\u001b[1;33m.\u001b[0m\u001b[0m_getitem_frame\u001b[0m\u001b[1;33m(\u001b[0m\u001b[0mkey\u001b[0m\u001b[1;33m)\u001b[0m\u001b[1;33m\u001b[0m\u001b[0m\n\u001b[0m\u001b[0;32m   1794\u001b[0m         \u001b[1;32melif\u001b[0m \u001b[0mis_mi_columns\u001b[0m\u001b[1;33m:\u001b[0m\u001b[1;33m\u001b[0m\u001b[0m\n\u001b[0;32m   1795\u001b[0m             \u001b[1;32mreturn\u001b[0m \u001b[0mself\u001b[0m\u001b[1;33m.\u001b[0m\u001b[0m_getitem_multilevel\u001b[0m\u001b[1;33m(\u001b[0m\u001b[0mkey\u001b[0m\u001b[1;33m)\u001b[0m\u001b[1;33m\u001b[0m\u001b[0m\n",
      "\u001b[1;32m/usr/lib64/python2.7/site-packages/pandas/core/frame.pyc\u001b[0m in \u001b[0;36m_getitem_frame\u001b[1;34m(self, key)\u001b[0m\n\u001b[0;32m   1863\u001b[0m     \u001b[1;32mdef\u001b[0m \u001b[0m_getitem_frame\u001b[0m\u001b[1;33m(\u001b[0m\u001b[0mself\u001b[0m\u001b[1;33m,\u001b[0m \u001b[0mkey\u001b[0m\u001b[1;33m)\u001b[0m\u001b[1;33m:\u001b[0m\u001b[1;33m\u001b[0m\u001b[0m\n\u001b[0;32m   1864\u001b[0m         \u001b[1;32mif\u001b[0m \u001b[0mkey\u001b[0m\u001b[1;33m.\u001b[0m\u001b[0mvalues\u001b[0m\u001b[1;33m.\u001b[0m\u001b[0mdtype\u001b[0m \u001b[1;33m!=\u001b[0m \u001b[0mnp\u001b[0m\u001b[1;33m.\u001b[0m\u001b[0mbool_\u001b[0m\u001b[1;33m:\u001b[0m\u001b[1;33m\u001b[0m\u001b[0m\n\u001b[1;32m-> 1865\u001b[1;33m             \u001b[1;32mraise\u001b[0m \u001b[0mValueError\u001b[0m\u001b[1;33m(\u001b[0m\u001b[1;34m'Must pass DataFrame with boolean values only'\u001b[0m\u001b[1;33m)\u001b[0m\u001b[1;33m\u001b[0m\u001b[0m\n\u001b[0m\u001b[0;32m   1866\u001b[0m         \u001b[1;32mreturn\u001b[0m \u001b[0mself\u001b[0m\u001b[1;33m.\u001b[0m\u001b[0mwhere\u001b[0m\u001b[1;33m(\u001b[0m\u001b[0mkey\u001b[0m\u001b[1;33m)\u001b[0m\u001b[1;33m\u001b[0m\u001b[0m\n\u001b[0;32m   1867\u001b[0m \u001b[1;33m\u001b[0m\u001b[0m\n",
      "\u001b[1;31mValueError\u001b[0m: Must pass DataFrame with boolean values only"
     ]
    }
   ],
   "source": [
    "##combinamos dos filtros numero motores=4 y tipo =J\n",
    "aircraftdf[(aircraftdf[\"nb_engines\"]==4) & (aircraftdf[\"aircraft_type\"]==\"J\")]\n",
    "\n",
    "condicion= aircraftdf[(aircraftdf[\"nb_engines\"]==4) & (aircraftdf[\"aircraft_type\"]==\"J\")]\n",
    "\n",
    "filtrado=aircraftdf[condicion]\n",
    "\n",
    "filtrado.count()"
   ]
  },
  {
   "cell_type": "code",
   "execution_count": 35,
   "metadata": {
    "collapsed": true
   },
   "outputs": [],
   "source": [
    "cadena= \"\"\"Abkhazia\n",
    "Afghanistan\n",
    "Akrotiri and Dhekelia\n",
    "Aland\n",
    "Albania\n",
    "Algeria\n",
    "American Samoa\n",
    "Andorra\n",
    "Angola\n",
    "Anguilla\n",
    "Antigua and Barbuda\n",
    "Argentina\n",
    "Armenia\n",
    "Aruba\n",
    "Ascension Island\n",
    "Australia\n",
    "Austria\n",
    "Azerbaijan\n",
    "Bahamas, The\n",
    "Bahrain\n",
    "Bangladesh\n",
    "Barbados\n",
    "Belarus\n",
    "Belgium\n",
    "Belize\n",
    "Benin\n",
    "Bermuda\n",
    "Bhutan\n",
    "Bolivia\n",
    "Bosnia and Herzegovina\n",
    "Botswana\n",
    "Brazil\n",
    "Brunei\n",
    "Bulgaria\n",
    "Burkina Faso\n",
    "Burundi\n",
    "Cambodia\n",
    "Cameroon\n",
    "Canada\n",
    "Cape Verde\n",
    "Cayman Islands\n",
    "Central Africa Republic\n",
    "Chad\n",
    "Chile\n",
    "China\n",
    "Christmas Island\n",
    "Cocos (Keeling) Islands\n",
    "Colombia\n",
    "Comoros\n",
    "Congo\n",
    "Cook Islands\n",
    "Costa Rica\n",
    "Cote d'lvoire\n",
    "Croatia\n",
    "Cuba\n",
    "Cyprus\n",
    "Czech Republic\n",
    "Denmark\n",
    "Djibouti\n",
    "Dominica\n",
    "Dominican Republic\n",
    "East Timor Ecuador\n",
    "Egypt\n",
    "El Salvador\n",
    "Equatorial Guinea\n",
    "Eritrea\n",
    "Estonia\n",
    "Ethiopia\n",
    "Falkland Islands\n",
    "Faroe Islands\n",
    "Fiji\n",
    "Finland\n",
    "France\n",
    "French Polynesia\n",
    "Gabon\n",
    "Cambia, The\n",
    "Georgia\n",
    "Germany\n",
    "Ghana\n",
    "Gibraltar\n",
    "Greece\n",
    "Greenland\n",
    "Grenada\n",
    "Guam\n",
    "Guatemala\n",
    "Guemsey\n",
    "Guinea\n",
    "Guinea-Bissau\n",
    "Guyana\n",
    "Haiti\n",
    "Honduras\n",
    "Hong Kong\n",
    "Hungary\n",
    "Iceland\n",
    "India\n",
    "Indonesia\n",
    "Iran\n",
    "Iraq\n",
    "Ireland\n",
    "Isle of Man\n",
    "Israel\n",
    "Italy\n",
    "Jamaica\n",
    "Japan\n",
    "Jersey\n",
    "Jordan\n",
    "Kazakhstan\n",
    "Kenya\n",
    "Kiribati\n",
    "Korea, N\n",
    "Korea, S\n",
    "Kosovo\n",
    "Kuwait\n",
    "Kyrgyzstan\n",
    "Laos\n",
    "Latvia\n",
    "Lebanon\n",
    "Lesotho\n",
    "Liberia\n",
    "Libya\n",
    "Liechtenstein\n",
    "Lithuania\n",
    "Luxembourg\n",
    "Macao\n",
    "Macedonia\n",
    "Madagascar\n",
    "Malawi\n",
    "Malaysia\n",
    "Maldives\n",
    "Mali\n",
    "Malta\n",
    "Marshall Islands\n",
    "Mauritania\n",
    "Mauritius\n",
    "Mayotte\n",
    "Mexico\n",
    "Micronesia\n",
    "Moldova\n",
    "Monaco\n",
    "Mongolia\n",
    "Montenegro\n",
    "Montserrat\n",
    "Morocco\n",
    "Mozambique\n",
    "Myanmar\n",
    "Nagorno-Karabakh\n",
    "Namibia\n",
    "Nauru\n",
    "Nepal\n",
    "Netherlands\n",
    "Netherlands Antilles\n",
    "New Caledonia\n",
    "New Zealand\n",
    "Nicaragua\n",
    "Niger\n",
    "Nigeria\n",
    "Niue\n",
    "Norfolk Island\n",
    "Northern Cyprus\n",
    "Northern Mariana Islands\n",
    "Norway\n",
    "Oman\n",
    "Pakistan\n",
    "Palau\n",
    "Palestine\n",
    "Panama\n",
    "Papua New Guinea\n",
    "Paraguay\n",
    "Peru\n",
    "Philippines\n",
    "Pitcaim Islands\n",
    "Poland\n",
    "Portugal\n",
    "Puerto Rico\n",
    "Qatar\n",
    "Romania\n",
    "Russia\n",
    "Rwanda\n",
    "Sahrawi Arab Democratic Republic\n",
    "Saint-Barthelemy\n",
    "Saint Helena\n",
    "Saint Kitts and Nevis\n",
    "Saint Lucia\n",
    "Saint Martin\n",
    "Saint Pierre and Miquelon\n",
    "Saint Vincent and Grenadines\n",
    "Samos\n",
    "San Marino\n",
    "Sao Tome and Principe\n",
    "Saudi Arabia\n",
    "Senegal\n",
    "Serbia\n",
    "Seychelles\n",
    "Sierra Leone\n",
    "Singapore\n",
    "Slovakia\n",
    "Slovenia\n",
    "Solomon Islands\n",
    "Somalia\n",
    "Somaliland\n",
    "South Africa\n",
    "South Ossetia\n",
    "Spain\n",
    "Sri Lanka\n",
    "Sudan\n",
    "Suriname\n",
    "Svalbard\n",
    "Swaziland\n",
    "Sweden\n",
    "Switzerland\n",
    "Syria\n",
    "Tajikistan\n",
    "Tanzania\n",
    "Thailand\n",
    "Togo\n",
    "Tokelau\n",
    "Tonga\n",
    "Transnistria\n",
    "Trinidad and Tobago\n",
    "Tristan da Cunha\n",
    "Tunisia\n",
    "Turkey\n",
    "Turkmenistan\n",
    "Turks and Caicos Islands\n",
    "Tuvalu\n",
    "Uganda\n",
    "Ukraine\n",
    "United Arab Emirates\n",
    "United Kingdom\n",
    "United States\n",
    "Uruguay\n",
    "Uzbekistan\n",
    "Vanuatu\n",
    "Vatican City\n",
    "Venezuela\n",
    "Vietnam\n",
    "Virgin Islands, British\n",
    "Virgin Islands, U.S.\n",
    "Wallis and Futuna\n",
    "Yemen\n",
    "Zambia\n",
    "Zimbabwe\"\"\""
   ]
  },
  {
   "cell_type": "code",
   "execution_count": 26,
   "metadata": {
    "collapsed": false
   },
   "outputs": [
    {
     "data": {
      "text/plain": [
       "\"Abkhazia\\nAfghanistan\\nAkrotiri and Dhekelia\\nAland\\nAlbania\\nAlgeria\\nAmerican Samoa\\nAndorra\\nAngola\\nAnguilla\\nAntigua and Barbuda\\nArgentina\\nArmenia\\nAruba\\nAscension Island\\nAustralia\\nAustria\\nAzerbaijan\\nBahamas, The\\nBahrain\\nBangladesh\\nBarbados\\nBelarus\\nBelgium\\nBelize\\nBenin\\nBermuda\\nBhutan\\nBolivia\\nBosnia and Herzegovina\\nBotswana\\nBrazil\\nBrunei\\nBulgaria\\nBurkina Faso\\nBurundi\\nCambodia\\nCameroon\\nCanada\\nCape Verde\\nCayman Islands\\nCentral Africa Republic\\nChad\\nChile\\nChina\\nChristmas Island\\nCocos (Keeling) Islands\\nColombia\\nComoros\\nCongo\\nCook Islands\\nCosta Rica\\nCote d'lvoire\\nCroatia\\nCuba\\nCyprus\\nCzech Republic\\nDenmark\\nDjibouti\\nDominica\\nDominican Republic\\nEast Timor Ecuador\\nEgypt\\nEl Salvador\\nEquatorial Guinea\\nEritrea\\nEstonia\\nEthiopia\\nFalkland Islands\\nFaroe Islands\\nFiji\\nFinland\\nFrance\\nFrench Polynesia\\nGabon\\nCambia, The\\nGeorgia\\nGermany\\nGhana\\nGibraltar\\nGreece\\nGreenland\\nGrenada\\nGuam\\nGuatemala\\nGuemsey\\nGuinea\\nGuinea-Bissau\\nGuyana\\nHaiti\\nHonduras\\nHong Kong\\nHungary\\nIceland\\nIndia\\nIndonesia\\nIran\\nIraq\\nIreland\\nIsle of Man\\nIsrael\\nItaly\\nJamaica\\nJapan\\nJersey\\nJordan\\nKazakhstan\\nKenya\\nKiribati\\nKorea, N\\nKorea, S\\nKosovo\\nKuwait\\nKyrgyzstan\\nLaos\\nLatvia\\nLebanon\\nLesotho\\nLiberia\\nLibya\\nLiechtenstein\\nLithuania\\nLuxembourg\\nMacao\\nMacedonia\\nMadagascar\\nMalawi\\nMalaysia\\nMaldives\\nMali\\nMalta\\nMarshall Islands\\nMauritania\\nMauritius\\nMayotte\\nMexico\\nMicronesia\\nMoldova\\nMonaco\\nMongolia\\nMontenegro\\nMontserrat\\nMorocco\\nMozambique\\nMyanmar\\nNagorno-Karabakh\\nNamibia\\nNauru\\nNepal\\nNetherlands\\nNetherlands Antilles\\nNew Caledonia\\nNew Zealand\\nNicaragua\\nNiger\\nNigeria\\nNiue\\nNorfolk Island\\nNorthern Cyprus\\nNorthern Mariana Islands\\nNorway\\nOman\\nPakistan\\nPalau\\nPalestine\\nPanama\\nPapua New Guinea\\nParaguay\\nPeru\\nPhilippines\\nPitcaim Islands\\nPoland\\nPortugal\\nPuerto Rico\\nQatar\\nRomania\\nRussia\\nRwanda\\nSahrawi Arab Democratic Republic\\nSaint-Barthelemy\\nSaint Helena\\nSaint Kitts and Nevis\\nSaint Lucia\\nSaint Martin\\nSaint Pierre and Miquelon\\nSaint Vincent and Grenadines\\nSamos\\nSan Marino\\nSao Tome and Principe\\nSaudi Arabia\\nSenegal\\nSerbia\\nSeychelles\\nSierra Leone\\nSingapore\\nSlovakia\\nSlovenia\\nSolomon Islands\\nSomalia\\nSomaliland\\nSouth Africa\\nSouth Ossetia\\nSpain\\nSri Lanka\\nSudan\\nSuriname\\nSvalbard\\nSwaziland\\nSweden\\nSwitzerland\\nSyria\\nTajikistan\\nTanzania\\nThailand\\nTogo\\nTokelau\\nTonga\\nTransnistria\\nTrinidad and Tobago\\nTristan da Cunha\\nTunisia\\nTurkey\\nTurkmenistan\\nTurks and Caicos Islands\\nTuvalu\\nUganda\\nUkraine\\nUnited Arab Emirates\\nUnited Kingdom\\nUnited States\\nUruguay\\nUzbekistan\\nVanuatu\\nVatican City\\nVenezuela\\nVietnam\\nVirgin Islands, British\\nVirgin Islands, U.S.\\nWallis and Futuna\\nYemen\\nZambia\\nZimbabwe\\n\""
      ]
     },
     "execution_count": 26,
     "metadata": {},
     "output_type": "execute_result"
    }
   ],
   "source": [
    "cadena"
   ]
  },
  {
   "cell_type": "code",
   "execution_count": 36,
   "metadata": {
    "collapsed": true
   },
   "outputs": [],
   "source": [
    "paises=cadena.split(\"\\n\")"
   ]
  },
  {
   "cell_type": "code",
   "execution_count": 28,
   "metadata": {
    "collapsed": false
   },
   "outputs": [
    {
     "data": {
      "text/plain": [
       "'Abkhazia'"
      ]
     },
     "execution_count": 28,
     "metadata": {},
     "output_type": "execute_result"
    }
   ],
   "source": [
    "paises[0]"
   ]
  },
  {
   "cell_type": "code",
   "execution_count": 29,
   "metadata": {
    "collapsed": false
   },
   "outputs": [
    {
     "data": {
      "text/plain": [
       "['Abkhazia', 'Afghanistan', 'Akrotiri and Dhekelia', 'Aland', 'Albania']"
      ]
     },
     "execution_count": 29,
     "metadata": {},
     "output_type": "execute_result"
    }
   ],
   "source": [
    "paises[0:5]"
   ]
  },
  {
   "cell_type": "code",
   "execution_count": 31,
   "metadata": {
    "collapsed": false
   },
   "outputs": [
    {
     "data": {
      "text/plain": [
       "['1', '2', '3', '5', '6', '7']"
      ]
     },
     "execution_count": 31,
     "metadata": {},
     "output_type": "execute_result"
    }
   ],
   "source": [
    "cadena2= \"1,2,3,5,6,7\"\n",
    "cadena2.split(\",\")"
   ]
  },
  {
   "cell_type": "code",
   "execution_count": 32,
   "metadata": {
    "collapsed": true
   },
   "outputs": [],
   "source": [
    "import numpy as np"
   ]
  },
  {
   "cell_type": "code",
   "execution_count": 40,
   "metadata": {
    "collapsed": false
   },
   "outputs": [
    {
     "data": {
      "text/plain": [
       "array([ 95,  83, 214, 217,   6,  77,  75,  61,  92, 121])"
      ]
     },
     "execution_count": 40,
     "metadata": {},
     "output_type": "execute_result"
    }
   ],
   "source": [
    "random=np.random.randint(0,242,10)\n",
    "random"
   ]
  },
  {
   "cell_type": "code",
   "execution_count": 37,
   "metadata": {
    "collapsed": false
   },
   "outputs": [
    {
     "data": {
      "text/plain": [
       "242"
      ]
     },
     "execution_count": 37,
     "metadata": {},
     "output_type": "execute_result"
    }
   ],
   "source": [
    "len(paises)"
   ]
  },
  {
   "cell_type": "code",
   "execution_count": 48,
   "metadata": {
    "collapsed": false
   },
   "outputs": [],
   "source": [
    "Data=DataFrame({\"position\":random})"
   ]
  },
  {
   "cell_type": "code",
   "execution_count": 46,
   "metadata": {
    "collapsed": false
   },
   "outputs": [
    {
     "data": {
      "text/plain": [
       "'Afghanistan'"
      ]
     },
     "execution_count": 46,
     "metadata": {},
     "output_type": "execute_result"
    }
   ],
   "source": [
    "def quepais (posicion):\n",
    "    return paises[posicion]\n",
    "\n",
    "quepais(1)"
   ]
  },
  {
   "cell_type": "code",
   "execution_count": 50,
   "metadata": {
    "collapsed": false
   },
   "outputs": [
    {
     "data": {
      "text/html": [
       "<div>\n",
       "<table border=\"1\" class=\"dataframe\">\n",
       "  <thead>\n",
       "    <tr style=\"text-align: right;\">\n",
       "      <th></th>\n",
       "      <th>position</th>\n",
       "    </tr>\n",
       "  </thead>\n",
       "  <tbody>\n",
       "    <tr>\n",
       "      <th>0</th>\n",
       "      <td>Indonesia</td>\n",
       "    </tr>\n",
       "    <tr>\n",
       "      <th>1</th>\n",
       "      <td>Guam</td>\n",
       "    </tr>\n",
       "    <tr>\n",
       "      <th>2</th>\n",
       "      <td>Togo</td>\n",
       "    </tr>\n",
       "    <tr>\n",
       "      <th>3</th>\n",
       "      <td>Transnistria</td>\n",
       "    </tr>\n",
       "    <tr>\n",
       "      <th>4</th>\n",
       "      <td>American Samoa</td>\n",
       "    </tr>\n",
       "    <tr>\n",
       "      <th>5</th>\n",
       "      <td>Germany</td>\n",
       "    </tr>\n",
       "    <tr>\n",
       "      <th>6</th>\n",
       "      <td>Cambia, The</td>\n",
       "    </tr>\n",
       "    <tr>\n",
       "      <th>7</th>\n",
       "      <td>East Timor Ecuador</td>\n",
       "    </tr>\n",
       "    <tr>\n",
       "      <th>8</th>\n",
       "      <td>Hungary</td>\n",
       "    </tr>\n",
       "    <tr>\n",
       "      <th>9</th>\n",
       "      <td>Lithuania</td>\n",
       "    </tr>\n",
       "  </tbody>\n",
       "</table>\n",
       "</div>"
      ],
      "text/plain": [
       "             position\n",
       "0           Indonesia\n",
       "1                Guam\n",
       "2                Togo\n",
       "3        Transnistria\n",
       "4      American Samoa\n",
       "5             Germany\n",
       "6         Cambia, The\n",
       "7  East Timor Ecuador\n",
       "8             Hungary\n",
       "9           Lithuania"
      ]
     },
     "execution_count": 50,
     "metadata": {},
     "output_type": "execute_result"
    }
   ],
   "source": [
    "Data.applymap(quepais)\n",
    "\n"
   ]
  },
  {
   "cell_type": "code",
   "execution_count": 51,
   "metadata": {
    "collapsed": false
   },
   "outputs": [
    {
     "data": {
      "text/html": [
       "<div>\n",
       "<table border=\"1\" class=\"dataframe\">\n",
       "  <thead>\n",
       "    <tr style=\"text-align: right;\">\n",
       "      <th></th>\n",
       "      <th>position</th>\n",
       "    </tr>\n",
       "  </thead>\n",
       "  <tbody>\n",
       "    <tr>\n",
       "      <th>0</th>\n",
       "      <td>Indonesia</td>\n",
       "    </tr>\n",
       "    <tr>\n",
       "      <th>1</th>\n",
       "      <td>Guam</td>\n",
       "    </tr>\n",
       "    <tr>\n",
       "      <th>2</th>\n",
       "      <td>Togo</td>\n",
       "    </tr>\n",
       "    <tr>\n",
       "      <th>3</th>\n",
       "      <td>Transnistria</td>\n",
       "    </tr>\n",
       "    <tr>\n",
       "      <th>4</th>\n",
       "      <td>American Samoa</td>\n",
       "    </tr>\n",
       "  </tbody>\n",
       "</table>\n",
       "</div>"
      ],
      "text/plain": [
       "         position\n",
       "0       Indonesia\n",
       "1            Guam\n",
       "2            Togo\n",
       "3    Transnistria\n",
       "4  American Samoa"
      ]
     },
     "execution_count": 51,
     "metadata": {},
     "output_type": "execute_result"
    }
   ],
   "source": [
    "newdata =Data.applymap(quepais)\n",
    "newdata.head()"
   ]
  },
  {
   "cell_type": "code",
   "execution_count": 52,
   "metadata": {
    "collapsed": false
   },
   "outputs": [
    {
     "data": {
      "text/html": [
       "<div>\n",
       "<table border=\"1\" class=\"dataframe\">\n",
       "  <thead>\n",
       "    <tr style=\"text-align: right;\">\n",
       "      <th></th>\n",
       "      <th>position</th>\n",
       "      <th>pais</th>\n",
       "    </tr>\n",
       "  </thead>\n",
       "  <tbody>\n",
       "    <tr>\n",
       "      <th>0</th>\n",
       "      <td>95</td>\n",
       "      <td>Indonesia</td>\n",
       "    </tr>\n",
       "    <tr>\n",
       "      <th>1</th>\n",
       "      <td>83</td>\n",
       "      <td>Guam</td>\n",
       "    </tr>\n",
       "    <tr>\n",
       "      <th>2</th>\n",
       "      <td>214</td>\n",
       "      <td>Togo</td>\n",
       "    </tr>\n",
       "    <tr>\n",
       "      <th>3</th>\n",
       "      <td>217</td>\n",
       "      <td>Transnistria</td>\n",
       "    </tr>\n",
       "    <tr>\n",
       "      <th>4</th>\n",
       "      <td>6</td>\n",
       "      <td>American Samoa</td>\n",
       "    </tr>\n",
       "  </tbody>\n",
       "</table>\n",
       "</div>"
      ],
      "text/plain": [
       "   position            pais\n",
       "0        95       Indonesia\n",
       "1        83            Guam\n",
       "2       214            Togo\n",
       "3       217    Transnistria\n",
       "4         6  American Samoa"
      ]
     },
     "execution_count": 52,
     "metadata": {},
     "output_type": "execute_result"
    }
   ],
   "source": [
    "## la nueva columna de dataframe data se llama pais y son los valores de la columna position de new data\n",
    "Data[\"pais\"]=newdata[\"position\"]\n",
    "Data.head()"
   ]
  },
  {
   "cell_type": "code",
   "execution_count": 59,
   "metadata": {
    "collapsed": true
   },
   "outputs": [],
   "source": [
    "%matplotlib inline"
   ]
  },
  {
   "cell_type": "code",
   "execution_count": 69,
   "metadata": {
    "collapsed": false
   },
   "outputs": [
    {
     "data": {
      "text/plain": [
       "[<matplotlib.lines.Line2D at 0x7f77c12b7b90>]"
      ]
     },
     "execution_count": 69,
     "metadata": {},
     "output_type": "execute_result"
    },
    {
     "data": {
      "image/png": "[encoded data removed]",
      "text/plain": [
       "<matplotlib.figure.Figure at 0x7f77c1446190>"
      ]
     },
     "metadata": {},
     "output_type": "display_data"
    }
   ],
   "source": [
    "### grafico \n",
    "x=  [1,2,3,4]\n",
    "y=  [3.5,6.6,1410,5]\n",
    "\n",
    "plt.plot(x,y, label=\"lineal\")\n"
   ]
  },
  {
   "cell_type": "code",
   "execution_count": 70,
   "metadata": {
    "collapsed": false
   },
   "outputs": [
    {
     "data": {
      "text/plain": [
       "<matplotlib.legend.Legend at 0x7f77c11fcc10>"
      ]
     },
     "execution_count": 70,
     "metadata": {},
     "output_type": "execute_result"
    },
    {
     "data": {
      "image/png": "[encoded data removed]",
      "text/plain": [
       "<matplotlib.figure.Figure at 0x7f77c12fa410>"
      ]
     },
     "metadata": {},
     "output_type": "display_data"
    }
   ],
   "source": [
    "x2=  [1,2,3,4]\n",
    "y2=  [100,200,300,400]\n",
    "plt.title(\"Mi primera grafica\")\n",
    "plt.xlabel(\"Indice\")\n",
    "plt.ylabel(\"Valores\")\n",
    "plt.plot(x,y, label=\"linea1\")\n",
    "plt.plot(x2,y2, label=\"linea2\")\n",
    "\n",
    "plt.legend(loc=\"best\",frameon=False)"
   ]
  },
  {
   "cell_type": "code",
   "execution_count": null,
   "metadata": {
    "collapsed": true
   },
   "outputs": [],
   "source": [
    "##grafico,afico de puntos\n",
    "\n",
    "plt.plot(x,y,marker=\"r--\", label=\"linea1\")"
   ]
  },
  {
   "cell_type": "code",
   "execution_count": 73,
   "metadata": {
    "collapsed": false
   },
   "outputs": [
    {
     "data": {
      "text/plain": [
       "([<matplotlib.patches.Wedge at 0x7f77c1060390>,\n",
       "  <matplotlib.patches.Wedge at 0x7f77c1060d50>,\n",
       "  <matplotlib.patches.Wedge at 0x7f77c106d710>],\n",
       " [<matplotlib.text.Text at 0x7f77c1060950>,\n",
       "  <matplotlib.text.Text at 0x7f77c106d350>,\n",
       "  <matplotlib.text.Text at 0x7f77c106dcd0>])"
      ]
     },
     "execution_count": 73,
     "metadata": {},
     "output_type": "execute_result"
    },
    {
     "data": {
      "image/png": "[encoded data removed]",
      "text/plain": [
       "<matplotlib.figure.Figure at 0x7f77c1083890>"
      ]
     },
     "metadata": {},
     "output_type": "display_data"
    }
   ],
   "source": [
    "##grafico tRTA\n",
    "labels =[\"field1\",\"field2\",\"field3\"]\n",
    "valores =[1,2,3]\n",
    "plt.pie(valores,labels=labels)\n"
   ]
  },
  {
   "cell_type": "code",
   "execution_count": 74,
   "metadata": {
    "collapsed": false
   },
   "outputs": [
    {
     "data": {
      "text/plain": [
       "<Container object of 3 artists>"
      ]
     },
     "execution_count": 74,
     "metadata": {},
     "output_type": "execute_result"
    },
    {
     "data": {
      "image/png": "[encoded data removed]",
      "text/plain": [
       "<matplotlib.figure.Figure at 0x7f77c0ff7590>"
      ]
     },
     "metadata": {},
     "output_type": "display_data"
    }
   ],
   "source": [
    "labels =[\"field1\",\"field2\",\"field3\"]\n",
    "valores =[1,2,3]\n",
    "plt.bar([0,1,2],valores)"
   ]
  },
  {
   "cell_type": "code",
   "execution_count": 77,
   "metadata": {
    "collapsed": false
   },
   "outputs": [
    {
     "ename": "NameError",
     "evalue": "name 'Serie' is not defined",
     "output_type": "error",
     "traceback": [
      "\u001b[1;31m---------------------------------------------------------------------------\u001b[0m",
      "\u001b[1;31mNameError\u001b[0m                                 Traceback (most recent call last)",
      "\u001b[1;32m<ipython-input-77-2eda8833b481>\u001b[0m in \u001b[0;36m<module>\u001b[1;34m()\u001b[0m\n\u001b[1;32m----> 1\u001b[1;33m \u001b[0mseriex\u001b[0m \u001b[1;33m=\u001b[0m\u001b[0mSerie\u001b[0m\u001b[1;33m(\u001b[0m\u001b[0mx\u001b[0m\u001b[1;33m)\u001b[0m\u001b[1;33m\u001b[0m\u001b[0m\n\u001b[0m\u001b[0;32m      2\u001b[0m \u001b[0mseriey\u001b[0m \u001b[1;33m=\u001b[0m\u001b[0mSerie\u001b[0m\u001b[1;33m(\u001b[0m\u001b[0my\u001b[0m\u001b[1;33m)\u001b[0m\u001b[1;33m\u001b[0m\u001b[0m\n\u001b[0;32m      3\u001b[0m \u001b[0mdata\u001b[0m \u001b[1;33m=\u001b[0m\u001b[0mDataFrame\u001b[0m\u001b[1;33m(\u001b[0m\u001b[1;33m{\u001b[0m\u001b[1;34m\"posicion\"\u001b[0m\u001b[1;33m:\u001b[0m\u001b[0mx\u001b[0m\u001b[1;33m,\u001b[0m\u001b[1;34m\"valor\"\u001b[0m\u001b[1;33m:\u001b[0m\u001b[0my\u001b[0m\u001b[1;33m}\u001b[0m\u001b[1;33m)\u001b[0m\u001b[1;33m\u001b[0m\u001b[0m\n",
      "\u001b[1;31mNameError\u001b[0m: name 'Serie' is not defined"
     ]
    }
   ],
   "source": [
    "seriex =Series(x)\n",
    "seriey =Series(y)\n",
    "data =DataFrame({\"posicion\":x,\"valor\":y})"
   ]
  },
  {
   "cell_type": "code",
   "execution_count": 79,
   "metadata": {
    "collapsed": false
   },
   "outputs": [
    {
     "ename": "KeyError",
     "evalue": "'posicion'",
     "output_type": "error",
     "traceback": [
      "\u001b[1;31m---------------------------------------------------------------------------\u001b[0m",
      "\u001b[1;31mKeyError\u001b[0m                                  Traceback (most recent call last)",
      "\u001b[1;32m<ipython-input-79-813ff0c4ded3>\u001b[0m in \u001b[0;36m<module>\u001b[1;34m()\u001b[0m\n\u001b[1;32m----> 1\u001b[1;33m \u001b[0mplt\u001b[0m\u001b[1;33m.\u001b[0m\u001b[0mplot\u001b[0m\u001b[1;33m(\u001b[0m\u001b[0mData\u001b[0m\u001b[1;33m[\u001b[0m\u001b[1;34m\"posicion\"\u001b[0m\u001b[1;33m]\u001b[0m\u001b[1;33m,\u001b[0m\u001b[0mData\u001b[0m\u001b[1;33m[\u001b[0m\u001b[1;34m\"valor\"\u001b[0m\u001b[1;33m]\u001b[0m\u001b[1;33m)\u001b[0m\u001b[1;33m\u001b[0m\u001b[0m\n\u001b[0m",
      "\u001b[1;32m/usr/lib64/python2.7/site-packages/pandas/core/frame.pyc\u001b[0m in \u001b[0;36m__getitem__\u001b[1;34m(self, key)\u001b[0m\n\u001b[0;32m   1795\u001b[0m             \u001b[1;32mreturn\u001b[0m \u001b[0mself\u001b[0m\u001b[1;33m.\u001b[0m\u001b[0m_getitem_multilevel\u001b[0m\u001b[1;33m(\u001b[0m\u001b[0mkey\u001b[0m\u001b[1;33m)\u001b[0m\u001b[1;33m\u001b[0m\u001b[0m\n\u001b[0;32m   1796\u001b[0m         \u001b[1;32melse\u001b[0m\u001b[1;33m:\u001b[0m\u001b[1;33m\u001b[0m\u001b[0m\n\u001b[1;32m-> 1797\u001b[1;33m             \u001b[1;32mreturn\u001b[0m \u001b[0mself\u001b[0m\u001b[1;33m.\u001b[0m\u001b[0m_getitem_column\u001b[0m\u001b[1;33m(\u001b[0m\u001b[0mkey\u001b[0m\u001b[1;33m)\u001b[0m\u001b[1;33m\u001b[0m\u001b[0m\n\u001b[0m\u001b[0;32m   1798\u001b[0m \u001b[1;33m\u001b[0m\u001b[0m\n\u001b[0;32m   1799\u001b[0m     \u001b[1;32mdef\u001b[0m \u001b[0m_getitem_column\u001b[0m\u001b[1;33m(\u001b[0m\u001b[0mself\u001b[0m\u001b[1;33m,\u001b[0m \u001b[0mkey\u001b[0m\u001b[1;33m)\u001b[0m\u001b[1;33m:\u001b[0m\u001b[1;33m\u001b[0m\u001b[0m\n",
      "\u001b[1;32m/usr/lib64/python2.7/site-packages/pandas/core/frame.pyc\u001b[0m in \u001b[0;36m_getitem_column\u001b[1;34m(self, key)\u001b[0m\n\u001b[0;32m   1802\u001b[0m         \u001b[1;31m# get column\u001b[0m\u001b[1;33m\u001b[0m\u001b[1;33m\u001b[0m\u001b[0m\n\u001b[0;32m   1803\u001b[0m         \u001b[1;32mif\u001b[0m \u001b[0mself\u001b[0m\u001b[1;33m.\u001b[0m\u001b[0mcolumns\u001b[0m\u001b[1;33m.\u001b[0m\u001b[0mis_unique\u001b[0m\u001b[1;33m:\u001b[0m\u001b[1;33m\u001b[0m\u001b[0m\n\u001b[1;32m-> 1804\u001b[1;33m             \u001b[1;32mreturn\u001b[0m \u001b[0mself\u001b[0m\u001b[1;33m.\u001b[0m\u001b[0m_get_item_cache\u001b[0m\u001b[1;33m(\u001b[0m\u001b[0mkey\u001b[0m\u001b[1;33m)\u001b[0m\u001b[1;33m\u001b[0m\u001b[0m\n\u001b[0m\u001b[0;32m   1805\u001b[0m \u001b[1;33m\u001b[0m\u001b[0m\n\u001b[0;32m   1806\u001b[0m         \u001b[1;31m# duplicate columns & possible reduce dimensionaility\u001b[0m\u001b[1;33m\u001b[0m\u001b[1;33m\u001b[0m\u001b[0m\n",
      "\u001b[1;32m/usr/lib64/python2.7/site-packages/pandas/core/generic.pyc\u001b[0m in \u001b[0;36m_get_item_cache\u001b[1;34m(self, item)\u001b[0m\n\u001b[0;32m   1082\u001b[0m         \u001b[0mres\u001b[0m \u001b[1;33m=\u001b[0m \u001b[0mcache\u001b[0m\u001b[1;33m.\u001b[0m\u001b[0mget\u001b[0m\u001b[1;33m(\u001b[0m\u001b[0mitem\u001b[0m\u001b[1;33m)\u001b[0m\u001b[1;33m\u001b[0m\u001b[0m\n\u001b[0;32m   1083\u001b[0m         \u001b[1;32mif\u001b[0m \u001b[0mres\u001b[0m \u001b[1;32mis\u001b[0m \u001b[0mNone\u001b[0m\u001b[1;33m:\u001b[0m\u001b[1;33m\u001b[0m\u001b[0m\n\u001b[1;32m-> 1084\u001b[1;33m             \u001b[0mvalues\u001b[0m \u001b[1;33m=\u001b[0m \u001b[0mself\u001b[0m\u001b[1;33m.\u001b[0m\u001b[0m_data\u001b[0m\u001b[1;33m.\u001b[0m\u001b[0mget\u001b[0m\u001b[1;33m(\u001b[0m\u001b[0mitem\u001b[0m\u001b[1;33m)\u001b[0m\u001b[1;33m\u001b[0m\u001b[0m\n\u001b[0m\u001b[0;32m   1085\u001b[0m             \u001b[0mres\u001b[0m \u001b[1;33m=\u001b[0m \u001b[0mself\u001b[0m\u001b[1;33m.\u001b[0m\u001b[0m_box_item_values\u001b[0m\u001b[1;33m(\u001b[0m\u001b[0mitem\u001b[0m\u001b[1;33m,\u001b[0m \u001b[0mvalues\u001b[0m\u001b[1;33m)\u001b[0m\u001b[1;33m\u001b[0m\u001b[0m\n\u001b[0;32m   1086\u001b[0m             \u001b[0mcache\u001b[0m\u001b[1;33m[\u001b[0m\u001b[0mitem\u001b[0m\u001b[1;33m]\u001b[0m \u001b[1;33m=\u001b[0m \u001b[0mres\u001b[0m\u001b[1;33m\u001b[0m\u001b[0m\n",
      "\u001b[1;32m/usr/lib64/python2.7/site-packages/pandas/core/internals.pyc\u001b[0m in \u001b[0;36mget\u001b[1;34m(self, item, fastpath)\u001b[0m\n\u001b[0;32m   2849\u001b[0m \u001b[1;33m\u001b[0m\u001b[0m\n\u001b[0;32m   2850\u001b[0m             \u001b[1;32mif\u001b[0m \u001b[1;32mnot\u001b[0m \u001b[0misnull\u001b[0m\u001b[1;33m(\u001b[0m\u001b[0mitem\u001b[0m\u001b[1;33m)\u001b[0m\u001b[1;33m:\u001b[0m\u001b[1;33m\u001b[0m\u001b[0m\n\u001b[1;32m-> 2851\u001b[1;33m                 \u001b[0mloc\u001b[0m \u001b[1;33m=\u001b[0m \u001b[0mself\u001b[0m\u001b[1;33m.\u001b[0m\u001b[0mitems\u001b[0m\u001b[1;33m.\u001b[0m\u001b[0mget_loc\u001b[0m\u001b[1;33m(\u001b[0m\u001b[0mitem\u001b[0m\u001b[1;33m)\u001b[0m\u001b[1;33m\u001b[0m\u001b[0m\n\u001b[0m\u001b[0;32m   2852\u001b[0m             \u001b[1;32melse\u001b[0m\u001b[1;33m:\u001b[0m\u001b[1;33m\u001b[0m\u001b[0m\n\u001b[0;32m   2853\u001b[0m                 \u001b[0mindexer\u001b[0m \u001b[1;33m=\u001b[0m \u001b[0mnp\u001b[0m\u001b[1;33m.\u001b[0m\u001b[0marange\u001b[0m\u001b[1;33m(\u001b[0m\u001b[0mlen\u001b[0m\u001b[1;33m(\u001b[0m\u001b[0mself\u001b[0m\u001b[1;33m.\u001b[0m\u001b[0mitems\u001b[0m\u001b[1;33m)\u001b[0m\u001b[1;33m)\u001b[0m\u001b[1;33m[\u001b[0m\u001b[0misnull\u001b[0m\u001b[1;33m(\u001b[0m\u001b[0mself\u001b[0m\u001b[1;33m.\u001b[0m\u001b[0mitems\u001b[0m\u001b[1;33m)\u001b[0m\u001b[1;33m]\u001b[0m\u001b[1;33m\u001b[0m\u001b[0m\n",
      "\u001b[1;32m/usr/lib64/python2.7/site-packages/pandas/core/index.pyc\u001b[0m in \u001b[0;36mget_loc\u001b[1;34m(self, key, method)\u001b[0m\n\u001b[0;32m   1570\u001b[0m         \"\"\"\n\u001b[0;32m   1571\u001b[0m         \u001b[1;32mif\u001b[0m \u001b[0mmethod\u001b[0m \u001b[1;32mis\u001b[0m \u001b[0mNone\u001b[0m\u001b[1;33m:\u001b[0m\u001b[1;33m\u001b[0m\u001b[0m\n\u001b[1;32m-> 1572\u001b[1;33m             \u001b[1;32mreturn\u001b[0m \u001b[0mself\u001b[0m\u001b[1;33m.\u001b[0m\u001b[0m_engine\u001b[0m\u001b[1;33m.\u001b[0m\u001b[0mget_loc\u001b[0m\u001b[1;33m(\u001b[0m\u001b[0m_values_from_object\u001b[0m\u001b[1;33m(\u001b[0m\u001b[0mkey\u001b[0m\u001b[1;33m)\u001b[0m\u001b[1;33m)\u001b[0m\u001b[1;33m\u001b[0m\u001b[0m\n\u001b[0m\u001b[0;32m   1573\u001b[0m \u001b[1;33m\u001b[0m\u001b[0m\n\u001b[0;32m   1574\u001b[0m         \u001b[0mindexer\u001b[0m \u001b[1;33m=\u001b[0m \u001b[0mself\u001b[0m\u001b[1;33m.\u001b[0m\u001b[0mget_indexer\u001b[0m\u001b[1;33m(\u001b[0m\u001b[1;33m[\u001b[0m\u001b[0mkey\u001b[0m\u001b[1;33m]\u001b[0m\u001b[1;33m,\u001b[0m \u001b[0mmethod\u001b[0m\u001b[1;33m=\u001b[0m\u001b[0mmethod\u001b[0m\u001b[1;33m)\u001b[0m\u001b[1;33m\u001b[0m\u001b[0m\n",
      "\u001b[1;32mpandas/index.pyx\u001b[0m in \u001b[0;36mpandas.index.IndexEngine.get_loc (pandas/index.c:3824)\u001b[1;34m()\u001b[0m\n",
      "\u001b[1;32mpandas/index.pyx\u001b[0m in \u001b[0;36mpandas.index.IndexEngine.get_loc (pandas/index.c:3704)\u001b[1;34m()\u001b[0m\n",
      "\u001b[1;32mpandas/hashtable.pyx\u001b[0m in \u001b[0;36mpandas.hashtable.PyObjectHashTable.get_item (pandas/hashtable.c:12280)\u001b[1;34m()\u001b[0m\n",
      "\u001b[1;32mpandas/hashtable.pyx\u001b[0m in \u001b[0;36mpandas.hashtable.PyObjectHashTable.get_item (pandas/hashtable.c:12231)\u001b[1;34m()\u001b[0m\n",
      "\u001b[1;31mKeyError\u001b[0m: 'posicion'"
     ]
    }
   ],
   "source": [
    "plt.plot(Data[\"posicion\"],Data[\"valor\"])  "
   ]
  }
 ],
 "metadata": {
  "kernelspec": {
   "display_name": "Python 2",
   "language": "python",
   "name": "python2"
  },
  "language_info": {
   "codemirror_mode": {
    "name": "ipython",
    "version": 2
   },
   "file_extension": ".py",
   "mimetype": "text/x-python",
   "name": "python",
   "nbconvert_exporter": "python",
   "pygments_lexer": "ipython2",
   "version": "2.7.10"
  }
 },
 "nbformat": 4,
 "nbformat_minor": 0
}
